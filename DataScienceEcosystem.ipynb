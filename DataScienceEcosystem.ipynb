{
 "cells": [
  {
   "cell_type": "markdown",
   "id": "84bd49ef-e836-4096-b961-ed650c0b0839",
   "metadata": {},
   "source": [
    "# Data Science Tools and Ecosystem\n",
    "In this notebook, Data Science Tools and Ecosystem are summarized.\r\n",
    "\r\n"
   ]
  },
  {
   "cell_type": "markdown",
   "id": "28dd65eb-c5ef-4999-830b-bae26caa2a01",
   "metadata": {},
   "source": [
    "**Ojectives:**\n",
    "* Some of the popular languages in Data Science\n",
    "* Some of the commonly used libraries in Data Science\n",
    "* Data science Tools "
   ]
  },
  {
   "cell_type": "markdown",
   "id": "f958c71d-0f8d-43cb-b922-c01048343d9a",
   "metadata": {},
   "source": [
    "#Some of the popular languages that Data Scientists use are:\r",
    "1) Python\n",
    "2) R\n",
    "3) SQL\n",
    "4) Java\n",
    "5) Julia\n",
    "6) Scala\n",
    "   \n"
   ]
  },
  {
   "cell_type": "markdown",
   "id": "e7a1bc99-d27c-4d1b-979e-8555e1199dac",
   "metadata": {},
   "source": [
    "#Some of the commonly used libraries used by Data Scientists include:\r",
    "1) Numpy\n",
    "2) Pandas\n",
    "3) Matplotlib\n",
    "4) Seaborn\n",
    "5) Scikit-learn\n",
    "6) TensorFlow-Pytourch\n",
    "\n"
   ]
  },
  {
   "cell_type": "markdown",
   "id": "c088e247-e05d-4979-8110-9d7350419ffb",
   "metadata": {},
   "source": [
    "| Data Science Tools |\n",
    "|--------------------|\n",
    "| NumPy             |\n",
    "| Pandas            |\n",
    "| Matplotlib        |"
   ]
  },
  {
   "cell_type": "code",
   "execution_count": 7,
   "id": "34b3e26c-77f4-47c9-ae00-604ac994bf6a",
   "metadata": {},
   "outputs": [
    {
     "name": "stdout",
     "output_type": "stream",
     "text": [
      "17\n"
     ]
    }
   ],
   "source": [
    "### Below are a few examples of evaluating arithmetic expressions in Python.\n",
    "#This a simple arithmetic expression to mutiply then add integers\n",
    "a = (3*4)+5\n",
    "print(a)"
   ]
  },
  {
   "cell_type": "code",
   "execution_count": 9,
   "id": "b8ee9317-9183-4089-9401-b030de01b24f",
   "metadata": {},
   "outputs": [
    {
     "name": "stdout",
     "output_type": "stream",
     "text": [
      "3.3333333333333335\n"
     ]
    }
   ],
   "source": [
    "#This will convert 200 minutes to hours by diving by 60\n",
    "hours = 200 / 60\n",
    "print(hours)"
   ]
  },
  {
   "cell_type": "markdown",
   "id": "05e2e824-884b-4b4f-988f-2e0d678bd8ae",
   "metadata": {},
   "source": [
    "## Author\n",
    "Farooq Abdul"
   ]
  }
 ],
 "metadata": {
  "kernelspec": {
   "display_name": "Python 3 (ipykernel)",
   "language": "python",
   "name": "python3"
  },
  "language_info": {
   "codemirror_mode": {
    "name": "ipython",
    "version": 3
   },
   "file_extension": ".py",
   "mimetype": "text/x-python",
   "name": "python",
   "nbconvert_exporter": "python",
   "pygments_lexer": "ipython3",
   "version": "3.12.4"
  }
 },
 "nbformat": 4,
 "nbformat_minor": 5
}
